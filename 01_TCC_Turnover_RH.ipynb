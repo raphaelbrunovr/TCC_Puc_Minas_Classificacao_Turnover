{
 "cells": [
  {
   "cell_type": "markdown",
   "metadata": {},
   "source": [
    "### Utilização de modelos de Machine Learning para predição de Turnover em uma empresa ###"
   ]
  },
  {
   "cell_type": "markdown",
   "metadata": {},
   "source": [
    "Este modelo foi criado para o trabalho de conclusão do Curso de Especialização em Ciência de Dados e Big Data da PUC-MG. \n",
    "\n",
    "O trabalho consiste em prever a possibilidade de um colaborador sair da empresa ou continuar nela. Um dataset ficticio do repositório Kaggle que possui 14.249 linhas e 10 colunas foi utilizado e enriquecido com uma base criada dinamicamente no python contendo os campos: nome (full_name), gênero (gender) e estado (state / local de nascimento). Neste projeto comparamos 2 algoritmos de classificação:\n",
    "\n",
    "* KNN (K-Nearest Neighbors)\n",
    "* SVM (Support Vector Machine)"
   ]
  },
  {
   "cell_type": "code",
   "execution_count": 1,
   "metadata": {},
   "outputs": [],
   "source": [
    "# Importação das bibliotecas utilizadas\n",
    "import numpy as np\n",
    "import pandas as pd\n",
    "import seaborn as sns\n",
    "import matplotlib.pyplot as plt\n",
    "from sklearn import preprocessing\n",
    "from sklearn.preprocessing import StandardScaler\n",
    "from imblearn.under_sampling import NearMiss\n",
    "from sklearn import svm\n",
    "from sklearn.neighbors import KNeighborsClassifier\n",
    "from sklearn.model_selection import GridSearchCV\n",
    "from sklearn.model_selection import train_test_split\n",
    "from sklearn import metrics\n",
    "from sklearn.metrics import accuracy_score, confusion_matrix, classification_report\n",
    "import pickle"
   ]
  },
  {
   "cell_type": "markdown",
   "metadata": {},
   "source": [
    "**Preparação dos dados**"
   ]
  },
  {
   "cell_type": "code",
   "execution_count": 2,
   "metadata": {},
   "outputs": [
    {
     "data": {
      "text/html": [
       "<div>\n",
       "<style scoped>\n",
       "    .dataframe tbody tr th:only-of-type {\n",
       "        vertical-align: middle;\n",
       "    }\n",
       "\n",
       "    .dataframe tbody tr th {\n",
       "        vertical-align: top;\n",
       "    }\n",
       "\n",
       "    .dataframe thead th {\n",
       "        text-align: right;\n",
       "    }\n",
       "</style>\n",
       "<table border=\"1\" class=\"dataframe\">\n",
       "  <thead>\n",
       "    <tr style=\"text-align: right;\">\n",
       "      <th></th>\n",
       "      <th>avg_monthly_hrs</th>\n",
       "      <th>department</th>\n",
       "      <th>filed_complaint</th>\n",
       "      <th>last_evaluation</th>\n",
       "      <th>n_projects</th>\n",
       "      <th>recently_promoted</th>\n",
       "      <th>salary</th>\n",
       "      <th>satisfaction</th>\n",
       "      <th>status</th>\n",
       "      <th>tenure</th>\n",
       "    </tr>\n",
       "  </thead>\n",
       "  <tbody>\n",
       "    <tr>\n",
       "      <th>0</th>\n",
       "      <td>221</td>\n",
       "      <td>engineering</td>\n",
       "      <td>NaN</td>\n",
       "      <td>0.932868</td>\n",
       "      <td>4</td>\n",
       "      <td>NaN</td>\n",
       "      <td>low</td>\n",
       "      <td>0.829896</td>\n",
       "      <td>Left</td>\n",
       "      <td>5.0</td>\n",
       "    </tr>\n",
       "    <tr>\n",
       "      <th>1</th>\n",
       "      <td>232</td>\n",
       "      <td>support</td>\n",
       "      <td>NaN</td>\n",
       "      <td>NaN</td>\n",
       "      <td>3</td>\n",
       "      <td>NaN</td>\n",
       "      <td>low</td>\n",
       "      <td>0.834544</td>\n",
       "      <td>Employed</td>\n",
       "      <td>2.0</td>\n",
       "    </tr>\n",
       "    <tr>\n",
       "      <th>2</th>\n",
       "      <td>184</td>\n",
       "      <td>sales</td>\n",
       "      <td>NaN</td>\n",
       "      <td>0.788830</td>\n",
       "      <td>3</td>\n",
       "      <td>NaN</td>\n",
       "      <td>medium</td>\n",
       "      <td>0.834988</td>\n",
       "      <td>Employed</td>\n",
       "      <td>3.0</td>\n",
       "    </tr>\n",
       "    <tr>\n",
       "      <th>3</th>\n",
       "      <td>206</td>\n",
       "      <td>sales</td>\n",
       "      <td>NaN</td>\n",
       "      <td>0.575688</td>\n",
       "      <td>4</td>\n",
       "      <td>NaN</td>\n",
       "      <td>low</td>\n",
       "      <td>0.424764</td>\n",
       "      <td>Employed</td>\n",
       "      <td>2.0</td>\n",
       "    </tr>\n",
       "    <tr>\n",
       "      <th>4</th>\n",
       "      <td>249</td>\n",
       "      <td>sales</td>\n",
       "      <td>NaN</td>\n",
       "      <td>0.845217</td>\n",
       "      <td>3</td>\n",
       "      <td>NaN</td>\n",
       "      <td>low</td>\n",
       "      <td>0.779043</td>\n",
       "      <td>Employed</td>\n",
       "      <td>3.0</td>\n",
       "    </tr>\n",
       "  </tbody>\n",
       "</table>\n",
       "</div>"
      ],
      "text/plain": [
       "   avg_monthly_hrs   department  filed_complaint  last_evaluation  n_projects  \\\n",
       "0              221  engineering              NaN         0.932868           4   \n",
       "1              232      support              NaN              NaN           3   \n",
       "2              184        sales              NaN         0.788830           3   \n",
       "3              206        sales              NaN         0.575688           4   \n",
       "4              249        sales              NaN         0.845217           3   \n",
       "\n",
       "   recently_promoted  salary  satisfaction    status  tenure  \n",
       "0                NaN     low      0.829896      Left     5.0  \n",
       "1                NaN     low      0.834544  Employed     2.0  \n",
       "2                NaN  medium      0.834988  Employed     3.0  \n",
       "3                NaN     low      0.424764  Employed     2.0  \n",
       "4                NaN     low      0.779043  Employed     3.0  "
      ]
     },
     "execution_count": 2,
     "metadata": {},
     "output_type": "execute_result"
    }
   ],
   "source": [
    "rh = pd.read_csv('datasets/employee_data.csv')\n",
    "person = pd.read_csv('datasets/random_person.csv')\n",
    "rh.head()"
   ]
  },
  {
   "cell_type": "code",
   "execution_count": 3,
   "metadata": {},
   "outputs": [
    {
     "name": "stdout",
     "output_type": "stream",
     "text": [
      "<class 'pandas.core.frame.DataFrame'>\n",
      "RangeIndex: 14249 entries, 0 to 14248\n",
      "Data columns (total 10 columns):\n",
      " #   Column             Non-Null Count  Dtype  \n",
      "---  ------             --------------  -----  \n",
      " 0   avg_monthly_hrs    14249 non-null  int64  \n",
      " 1   department         13540 non-null  object \n",
      " 2   filed_complaint    2058 non-null   float64\n",
      " 3   last_evaluation    12717 non-null  float64\n",
      " 4   n_projects         14249 non-null  int64  \n",
      " 5   recently_promoted  300 non-null    float64\n",
      " 6   salary             14249 non-null  object \n",
      " 7   satisfaction       14068 non-null  float64\n",
      " 8   status             14249 non-null  object \n",
      " 9   tenure             14068 non-null  float64\n",
      "dtypes: float64(5), int64(2), object(3)\n",
      "memory usage: 1.1+ MB\n"
     ]
    }
   ],
   "source": [
    "rh.info()"
   ]
  },
  {
   "cell_type": "code",
   "execution_count": 4,
   "metadata": {},
   "outputs": [],
   "source": [
    "# Preenchendo as colunas filed_complaint e recently_promoted com 0 no lugar dos valores ausentes\n",
    "rh['filed_complaint'].fillna(0, inplace=True)\n",
    "rh['recently_promoted'].fillna(0,inplace=True)"
   ]
  },
  {
   "cell_type": "code",
   "execution_count": 5,
   "metadata": {},
   "outputs": [],
   "source": [
    "# Transformando as colunas filed_complaint e recently_promoted em tipos de dados inteiros\n",
    "rh['filed_complaint'] = rh['filed_complaint'].astype('Int64')\n",
    "rh['recently_promoted'] = rh['recently_promoted'].astype('Int64')"
   ]
  },
  {
   "cell_type": "code",
   "execution_count": 6,
   "metadata": {},
   "outputs": [],
   "source": [
    "rh['last_evaluation'].fillna(rh['last_evaluation'].mean(),inplace=True)"
   ]
  },
  {
   "cell_type": "code",
   "execution_count": 7,
   "metadata": {},
   "outputs": [
    {
     "data": {
      "text/plain": [
       "array(['engineering', 'support', 'sales', 'IT', 'product', 'marketing',\n",
       "       'temp', 'procurement', 'finance', nan, 'management',\n",
       "       'information_technology', 'admin'], dtype=object)"
      ]
     },
     "execution_count": 7,
     "metadata": {},
     "output_type": "execute_result"
    }
   ],
   "source": [
    "# Verificando os valores da coluna department \n",
    "rh['department'].unique()"
   ]
  },
  {
   "cell_type": "code",
   "execution_count": 8,
   "metadata": {},
   "outputs": [],
   "source": [
    "# IT é o mesmo que information_Technology, por isso iremos inserir a mesma info para ambos\n",
    "rh['department'].replace('information_technology', 'IT', inplace=True)"
   ]
  },
  {
   "cell_type": "code",
   "execution_count": 9,
   "metadata": {},
   "outputs": [],
   "source": [
    "# Removendo registros com valores ausentes no dataset\n",
    "rh.dropna(subset=['department', 'tenure'], inplace=True)"
   ]
  },
  {
   "cell_type": "code",
   "execution_count": 10,
   "metadata": {},
   "outputs": [],
   "source": [
    "rh.reset_index(drop=True, inplace=True)"
   ]
  },
  {
   "cell_type": "markdown",
   "metadata": {},
   "source": [
    "* Tratamento do segundo dataset"
   ]
  },
  {
   "cell_type": "code",
   "execution_count": 11,
   "metadata": {},
   "outputs": [
    {
     "name": "stdout",
     "output_type": "stream",
     "text": [
      "<class 'pandas.core.frame.DataFrame'>\n",
      "RangeIndex: 14966 entries, 0 to 14965\n",
      "Data columns (total 3 columns):\n",
      " #   Column     Non-Null Count  Dtype \n",
      "---  ------     --------------  ----- \n",
      " 0   full_name  14966 non-null  object\n",
      " 1   gender     14966 non-null  object\n",
      " 2   state      14966 non-null  object\n",
      "dtypes: object(3)\n",
      "memory usage: 350.9+ KB\n"
     ]
    }
   ],
   "source": [
    "person.info()"
   ]
  },
  {
   "cell_type": "code",
   "execution_count": 12,
   "metadata": {},
   "outputs": [
    {
     "data": {
      "text/html": [
       "<div>\n",
       "<style scoped>\n",
       "    .dataframe tbody tr th:only-of-type {\n",
       "        vertical-align: middle;\n",
       "    }\n",
       "\n",
       "    .dataframe tbody tr th {\n",
       "        vertical-align: top;\n",
       "    }\n",
       "\n",
       "    .dataframe thead th {\n",
       "        text-align: right;\n",
       "    }\n",
       "</style>\n",
       "<table border=\"1\" class=\"dataframe\">\n",
       "  <thead>\n",
       "    <tr style=\"text-align: right;\">\n",
       "      <th></th>\n",
       "      <th>avg_monthly_hrs</th>\n",
       "      <th>department</th>\n",
       "      <th>filed_complaint</th>\n",
       "      <th>last_evaluation</th>\n",
       "      <th>n_projects</th>\n",
       "      <th>recently_promoted</th>\n",
       "      <th>salary</th>\n",
       "      <th>satisfaction</th>\n",
       "      <th>status</th>\n",
       "      <th>tenure</th>\n",
       "      <th>full_name</th>\n",
       "      <th>gender</th>\n",
       "      <th>state</th>\n",
       "    </tr>\n",
       "  </thead>\n",
       "  <tbody>\n",
       "    <tr>\n",
       "      <th>0</th>\n",
       "      <td>221</td>\n",
       "      <td>engineering</td>\n",
       "      <td>0</td>\n",
       "      <td>0.932868</td>\n",
       "      <td>4</td>\n",
       "      <td>0</td>\n",
       "      <td>low</td>\n",
       "      <td>0.829896</td>\n",
       "      <td>Left</td>\n",
       "      <td>5.0</td>\n",
       "      <td>Robert Ortiz</td>\n",
       "      <td>M</td>\n",
       "      <td>Colorado</td>\n",
       "    </tr>\n",
       "    <tr>\n",
       "      <th>1</th>\n",
       "      <td>232</td>\n",
       "      <td>support</td>\n",
       "      <td>0</td>\n",
       "      <td>0.718477</td>\n",
       "      <td>3</td>\n",
       "      <td>0</td>\n",
       "      <td>low</td>\n",
       "      <td>0.834544</td>\n",
       "      <td>Employed</td>\n",
       "      <td>2.0</td>\n",
       "      <td>Ismael Moore</td>\n",
       "      <td>M</td>\n",
       "      <td>Alaska</td>\n",
       "    </tr>\n",
       "    <tr>\n",
       "      <th>2</th>\n",
       "      <td>184</td>\n",
       "      <td>sales</td>\n",
       "      <td>0</td>\n",
       "      <td>0.788830</td>\n",
       "      <td>3</td>\n",
       "      <td>0</td>\n",
       "      <td>medium</td>\n",
       "      <td>0.834988</td>\n",
       "      <td>Employed</td>\n",
       "      <td>3.0</td>\n",
       "      <td>Patricia Ford</td>\n",
       "      <td>F</td>\n",
       "      <td>New Jersey</td>\n",
       "    </tr>\n",
       "    <tr>\n",
       "      <th>3</th>\n",
       "      <td>206</td>\n",
       "      <td>sales</td>\n",
       "      <td>0</td>\n",
       "      <td>0.575688</td>\n",
       "      <td>4</td>\n",
       "      <td>0</td>\n",
       "      <td>low</td>\n",
       "      <td>0.424764</td>\n",
       "      <td>Employed</td>\n",
       "      <td>2.0</td>\n",
       "      <td>Ward Graham</td>\n",
       "      <td>M</td>\n",
       "      <td>New Jersey</td>\n",
       "    </tr>\n",
       "    <tr>\n",
       "      <th>4</th>\n",
       "      <td>249</td>\n",
       "      <td>sales</td>\n",
       "      <td>0</td>\n",
       "      <td>0.845217</td>\n",
       "      <td>3</td>\n",
       "      <td>0</td>\n",
       "      <td>low</td>\n",
       "      <td>0.779043</td>\n",
       "      <td>Employed</td>\n",
       "      <td>3.0</td>\n",
       "      <td>Harry Bellows</td>\n",
       "      <td>M</td>\n",
       "      <td>Virginia</td>\n",
       "    </tr>\n",
       "  </tbody>\n",
       "</table>\n",
       "</div>"
      ],
      "text/plain": [
       "   avg_monthly_hrs   department  filed_complaint  last_evaluation  n_projects  \\\n",
       "0              221  engineering                0         0.932868           4   \n",
       "1              232      support                0         0.718477           3   \n",
       "2              184        sales                0         0.788830           3   \n",
       "3              206        sales                0         0.575688           4   \n",
       "4              249        sales                0         0.845217           3   \n",
       "\n",
       "   recently_promoted  salary  satisfaction    status  tenure      full_name  \\\n",
       "0                  0     low      0.829896      Left     5.0   Robert Ortiz   \n",
       "1                  0     low      0.834544  Employed     2.0   Ismael Moore   \n",
       "2                  0  medium      0.834988  Employed     3.0  Patricia Ford   \n",
       "3                  0     low      0.424764  Employed     2.0    Ward Graham   \n",
       "4                  0     low      0.779043  Employed     3.0  Harry Bellows   \n",
       "\n",
       "  gender       state  \n",
       "0      M    Colorado  \n",
       "1      M      Alaska  \n",
       "2      F  New Jersey  \n",
       "3      M  New Jersey  \n",
       "4      M    Virginia  "
      ]
     },
     "execution_count": 12,
     "metadata": {},
     "output_type": "execute_result"
    }
   ],
   "source": [
    "# Fazendo o join dos datasets rh e person\n",
    "rh = pd.concat([rh, person], axis=1, join=\"inner\")\n",
    "rh.head()"
   ]
  },
  {
   "cell_type": "code",
   "execution_count": 13,
   "metadata": {},
   "outputs": [
    {
     "name": "stdout",
     "output_type": "stream",
     "text": [
      "<class 'pandas.core.frame.DataFrame'>\n",
      "RangeIndex: 13359 entries, 0 to 13358\n",
      "Data columns (total 13 columns):\n",
      " #   Column             Non-Null Count  Dtype  \n",
      "---  ------             --------------  -----  \n",
      " 0   avg_monthly_hrs    13359 non-null  int64  \n",
      " 1   department         13359 non-null  object \n",
      " 2   filed_complaint    13359 non-null  Int64  \n",
      " 3   last_evaluation    13359 non-null  float64\n",
      " 4   n_projects         13359 non-null  int64  \n",
      " 5   recently_promoted  13359 non-null  Int64  \n",
      " 6   salary             13359 non-null  object \n",
      " 7   satisfaction       13359 non-null  float64\n",
      " 8   status             13359 non-null  object \n",
      " 9   tenure             13359 non-null  float64\n",
      " 10  full_name          13359 non-null  object \n",
      " 11  gender             13359 non-null  object \n",
      " 12  state              13359 non-null  object \n",
      "dtypes: Int64(2), float64(3), int64(2), object(6)\n",
      "memory usage: 1.4+ MB\n"
     ]
    }
   ],
   "source": [
    "rh.info()"
   ]
  },
  {
   "cell_type": "markdown",
   "metadata": {},
   "source": [
    "**Análise dos dados**"
   ]
  },
  {
   "cell_type": "code",
   "execution_count": 14,
   "metadata": {},
   "outputs": [
    {
     "data": {
      "text/html": [
       "<div>\n",
       "<style scoped>\n",
       "    .dataframe tbody tr th:only-of-type {\n",
       "        vertical-align: middle;\n",
       "    }\n",
       "\n",
       "    .dataframe tbody tr th {\n",
       "        vertical-align: top;\n",
       "    }\n",
       "\n",
       "    .dataframe thead th {\n",
       "        text-align: right;\n",
       "    }\n",
       "</style>\n",
       "<table border=\"1\" class=\"dataframe\">\n",
       "  <thead>\n",
       "    <tr style=\"text-align: right;\">\n",
       "      <th></th>\n",
       "      <th>avg_monthly_hrs</th>\n",
       "      <th>filed_complaint</th>\n",
       "      <th>last_evaluation</th>\n",
       "      <th>n_projects</th>\n",
       "      <th>recently_promoted</th>\n",
       "      <th>satisfaction</th>\n",
       "      <th>tenure</th>\n",
       "    </tr>\n",
       "  </thead>\n",
       "  <tbody>\n",
       "    <tr>\n",
       "      <th>count</th>\n",
       "      <td>13359.000000</td>\n",
       "      <td>13359.000000</td>\n",
       "      <td>13359.000000</td>\n",
       "      <td>13359.000000</td>\n",
       "      <td>13359.000000</td>\n",
       "      <td>13359.000000</td>\n",
       "      <td>13359.000000</td>\n",
       "    </tr>\n",
       "    <tr>\n",
       "      <th>mean</th>\n",
       "      <td>201.203159</td>\n",
       "      <td>0.145071</td>\n",
       "      <td>0.718503</td>\n",
       "      <td>3.807845</td>\n",
       "      <td>0.021334</td>\n",
       "      <td>0.622194</td>\n",
       "      <td>3.504155</td>\n",
       "    </tr>\n",
       "    <tr>\n",
       "      <th>std</th>\n",
       "      <td>49.930370</td>\n",
       "      <td>0.352185</td>\n",
       "      <td>0.164458</td>\n",
       "      <td>1.235721</td>\n",
       "      <td>0.144500</td>\n",
       "      <td>0.250476</td>\n",
       "      <td>1.473922</td>\n",
       "    </tr>\n",
       "    <tr>\n",
       "      <th>min</th>\n",
       "      <td>96.000000</td>\n",
       "      <td>0.000000</td>\n",
       "      <td>0.316175</td>\n",
       "      <td>2.000000</td>\n",
       "      <td>0.000000</td>\n",
       "      <td>0.040058</td>\n",
       "      <td>2.000000</td>\n",
       "    </tr>\n",
       "    <tr>\n",
       "      <th>25%</th>\n",
       "      <td>156.000000</td>\n",
       "      <td>0.000000</td>\n",
       "      <td>0.577606</td>\n",
       "      <td>3.000000</td>\n",
       "      <td>0.000000</td>\n",
       "      <td>0.451782</td>\n",
       "      <td>3.000000</td>\n",
       "    </tr>\n",
       "    <tr>\n",
       "      <th>50%</th>\n",
       "      <td>200.000000</td>\n",
       "      <td>0.000000</td>\n",
       "      <td>0.718477</td>\n",
       "      <td>4.000000</td>\n",
       "      <td>0.000000</td>\n",
       "      <td>0.654061</td>\n",
       "      <td>3.000000</td>\n",
       "    </tr>\n",
       "    <tr>\n",
       "      <th>75%</th>\n",
       "      <td>245.000000</td>\n",
       "      <td>0.000000</td>\n",
       "      <td>0.857885</td>\n",
       "      <td>5.000000</td>\n",
       "      <td>0.000000</td>\n",
       "      <td>0.825668</td>\n",
       "      <td>4.000000</td>\n",
       "    </tr>\n",
       "    <tr>\n",
       "      <th>max</th>\n",
       "      <td>310.000000</td>\n",
       "      <td>1.000000</td>\n",
       "      <td>1.000000</td>\n",
       "      <td>7.000000</td>\n",
       "      <td>1.000000</td>\n",
       "      <td>1.000000</td>\n",
       "      <td>10.000000</td>\n",
       "    </tr>\n",
       "  </tbody>\n",
       "</table>\n",
       "</div>"
      ],
      "text/plain": [
       "       avg_monthly_hrs  filed_complaint  last_evaluation    n_projects  \\\n",
       "count     13359.000000     13359.000000     13359.000000  13359.000000   \n",
       "mean        201.203159         0.145071         0.718503      3.807845   \n",
       "std          49.930370         0.352185         0.164458      1.235721   \n",
       "min          96.000000         0.000000         0.316175      2.000000   \n",
       "25%         156.000000         0.000000         0.577606      3.000000   \n",
       "50%         200.000000         0.000000         0.718477      4.000000   \n",
       "75%         245.000000         0.000000         0.857885      5.000000   \n",
       "max         310.000000         1.000000         1.000000      7.000000   \n",
       "\n",
       "       recently_promoted  satisfaction        tenure  \n",
       "count       13359.000000  13359.000000  13359.000000  \n",
       "mean            0.021334      0.622194      3.504155  \n",
       "std             0.144500      0.250476      1.473922  \n",
       "min             0.000000      0.040058      2.000000  \n",
       "25%             0.000000      0.451782      3.000000  \n",
       "50%             0.000000      0.654061      3.000000  \n",
       "75%             0.000000      0.825668      4.000000  \n",
       "max             1.000000      1.000000     10.000000  "
      ]
     },
     "execution_count": 14,
     "metadata": {},
     "output_type": "execute_result"
    }
   ],
   "source": [
    "rh.describe()"
   ]
  },
  {
   "cell_type": "code",
   "execution_count": 15,
   "metadata": {},
   "outputs": [
    {
     "data": {
      "text/plain": [
       "Text(0, 0.5, '% Percentual')"
      ]
     },
     "execution_count": 15,
     "metadata": {},
     "output_type": "execute_result"
    },
    {
     "data": {
      "image/png": "[encoded data removed]",
      "text/plain": [
       "<Figure size 432x288 with 1 Axes>"
      ]
     },
     "metadata": {
      "needs_background": "light"
     },
     "output_type": "display_data"
    }
   ],
   "source": [
    "perc = rh['status'].value_counts(normalize=True).mul(100).round(1)\n",
    "total = rh['status'].value_counts().index\n",
    "\n",
    "sns.barplot(x=total, y=perc,data=rh, palette='rocket')\n",
    "plt.xlabel(\"Status\", size=12)\n",
    "plt.ylabel(\"% Percentual\", size=12)"
   ]
  },
  {
   "cell_type": "code",
   "execution_count": 16,
   "metadata": {},
   "outputs": [
    {
     "data": {
      "text/plain": [
       "<matplotlib.axes._subplots.AxesSubplot at 0x1cc8f1ce748>"
      ]
     },
     "execution_count": 16,
     "metadata": {},
     "output_type": "execute_result"
    },
    {
     "data": {
      "image/png": "[encoded data removed]",
      "text/plain": [
       "<Figure size 432x288 with 1 Axes>"
      ]
     },
     "metadata": {
      "needs_background": "light"
     },
     "output_type": "display_data"
    }
   ],
   "source": [
    "sns.histplot(rh['last_evaluation'].mul(100), kde=False, bins=10, color='purple')"
   ]
  },
  {
   "cell_type": "code",
   "execution_count": 17,
   "metadata": {},
   "outputs": [
    {
     "data": {
      "text/plain": [
       "<matplotlib.axes._subplots.AxesSubplot at 0x1cc8f269fc8>"
      ]
     },
     "execution_count": 17,
     "metadata": {},
     "output_type": "execute_result"
    },
    {
     "data": {
      "image/png": "[encoded data removed]",
      "text/plain": [
       "<Figure size 432x288 with 1 Axes>"
      ]
     },
     "metadata": {
      "needs_background": "light"
     },
     "output_type": "display_data"
    }
   ],
   "source": [
    "sns.histplot(rh['satisfaction'].mul(100), kde=False, bins=10, color='purple')"
   ]
  },
  {
   "cell_type": "code",
   "execution_count": 18,
   "metadata": {},
   "outputs": [
    {
     "data": {
      "text/plain": [
       "<seaborn.axisgrid.FacetGrid at 0x1cc8f25a648>"
      ]
     },
     "execution_count": 18,
     "metadata": {},
     "output_type": "execute_result"
    },
    {
     "data": {
      "image/png": "[encoded data removed]",
      "text/plain": [
       "<Figure size 360x360 with 1 Axes>"
      ]
     },
     "metadata": {
      "needs_background": "light"
     },
     "output_type": "display_data"
    }
   ],
   "source": [
    "sns.catplot(y=\"department\", kind=\"count\", palette=\"rocket\", data=rh, order= rh['department'].value_counts().index)"
   ]
  },
  {
   "cell_type": "code",
   "execution_count": 19,
   "metadata": {},
   "outputs": [
    {
     "name": "stdout",
     "output_type": "stream",
     "text": [
      "recently_promoted  status  \n",
      "0                  Employed    0.759599\n",
      "                   Left        0.240401\n",
      "1                  Employed    0.936842\n",
      "                   Left        0.063158\n",
      "Name: status, dtype: float64\n"
     ]
    }
   ],
   "source": [
    "group_norm = rh.groupby('recently_promoted')['status'].value_counts(normalize=True)\n",
    "print(group_norm)"
   ]
  },
  {
   "cell_type": "code",
   "execution_count": 20,
   "metadata": {},
   "outputs": [
    {
     "name": "stdout",
     "output_type": "stream",
     "text": [
      "filed_complaint  status  \n",
      "0                Employed    0.736100\n",
      "                 Left        0.263900\n",
      "1                Employed    0.924149\n",
      "                 Left        0.075851\n",
      "Name: status, dtype: float64\n"
     ]
    }
   ],
   "source": [
    "group_norm = rh.groupby('filed_complaint')['status'].value_counts(normalize=True)\n",
    "print(group_norm)"
   ]
  },
  {
   "cell_type": "code",
   "execution_count": 21,
   "metadata": {
    "scrolled": true
   },
   "outputs": [
    {
     "data": {
      "text/plain": [
       "<matplotlib.axes._subplots.AxesSubplot at 0x1cc8f6113c8>"
      ]
     },
     "execution_count": 21,
     "metadata": {},
     "output_type": "execute_result"
    },
    {
     "data": {
      "image/png": "[encoded data removed]",
      "text/plain": [
       "<Figure size 432x288 with 1 Axes>"
      ]
     },
     "metadata": {
      "needs_background": "light"
     },
     "output_type": "display_data"
    }
   ],
   "source": [
    "# Salário\n",
    "sns.countplot(x='salary',data=rh,hue='status', palette='rocket')"
   ]
  },
  {
   "cell_type": "code",
   "execution_count": 22,
   "metadata": {},
   "outputs": [
    {
     "data": {
      "text/plain": [
       "F    6701\n",
       "M    6658\n",
       "Name: gender, dtype: int64"
      ]
     },
     "execution_count": 22,
     "metadata": {},
     "output_type": "execute_result"
    }
   ],
   "source": [
    "# Gênero\n",
    "rh['gender'].value_counts()"
   ]
  },
  {
   "cell_type": "code",
   "execution_count": 23,
   "metadata": {},
   "outputs": [
    {
     "data": {
      "text/plain": [
       "<matplotlib.axes._subplots.AxesSubplot at 0x1cc8f3e4408>"
      ]
     },
     "execution_count": 23,
     "metadata": {},
     "output_type": "execute_result"
    },
    {
     "data": {
      "image/png": "[encoded data removed]",
      "text/plain": [
       "<Figure size 432x288 with 1 Axes>"
      ]
     },
     "metadata": {
      "needs_background": "light"
     },
     "output_type": "display_data"
    }
   ],
   "source": [
    "agg_tenure = rh.groupby(['tenure','status']).size()\n",
    "agg_tenure = agg_tenure.to_frame().reset_index()\n",
    "agg_tenure = agg_tenure.rename(columns= {0: 'qtd'})\n",
    "\n",
    "sns.barplot(x='tenure',y='qtd', data=agg_tenure,hue='status', palette='rocket')"
   ]
  },
  {
   "cell_type": "markdown",
   "metadata": {},
   "source": [
    "### Preparação para treinamento do modelo ###"
   ]
  },
  {
   "cell_type": "code",
   "execution_count": 24,
   "metadata": {},
   "outputs": [
    {
     "name": "stderr",
     "output_type": "stream",
     "text": [
      "c:\\users\\rapha\\appdata\\local\\programs\\python\\python37\\lib\\site-packages\\pandas\\core\\frame.py:3997: SettingWithCopyWarning: \n",
      "A value is trying to be set on a copy of a slice from a DataFrame\n",
      "\n",
      "See the caveats in the documentation: https://pandas.pydata.org/pandas-docs/stable/user_guide/indexing.html#returning-a-view-versus-a-copy\n",
      "  errors=errors,\n"
     ]
    }
   ],
   "source": [
    "rh_deploy = rh.iloc[0:1000]\n",
    "rh_deploy.drop(columns=['full_name','state','status'],inplace=True)\n",
    "rh_deploy.to_csv('datasets/deploy_turnover_rh.csv', index=False)\n",
    "\n",
    "rh.drop(columns=['full_name','state'],inplace=True)\n",
    "rh = rh.iloc[1001:]"
   ]
  },
  {
   "cell_type": "code",
   "execution_count": 25,
   "metadata": {},
   "outputs": [],
   "source": [
    "# Separando a classe das features \n",
    "y = rh['status']\n",
    "X = rh.drop(columns=['status'])"
   ]
  },
  {
   "cell_type": "markdown",
   "metadata": {},
   "source": [
    "### Encoder ###"
   ]
  },
  {
   "cell_type": "code",
   "execution_count": 26,
   "metadata": {},
   "outputs": [
    {
     "data": {
      "text/html": [
       "<div>\n",
       "<style scoped>\n",
       "    .dataframe tbody tr th:only-of-type {\n",
       "        vertical-align: middle;\n",
       "    }\n",
       "\n",
       "    .dataframe tbody tr th {\n",
       "        vertical-align: top;\n",
       "    }\n",
       "\n",
       "    .dataframe thead th {\n",
       "        text-align: right;\n",
       "    }\n",
       "</style>\n",
       "<table border=\"1\" class=\"dataframe\">\n",
       "  <thead>\n",
       "    <tr style=\"text-align: right;\">\n",
       "      <th></th>\n",
       "      <th>avg_monthly_hrs</th>\n",
       "      <th>department</th>\n",
       "      <th>filed_complaint</th>\n",
       "      <th>last_evaluation</th>\n",
       "      <th>n_projects</th>\n",
       "      <th>recently_promoted</th>\n",
       "      <th>salary</th>\n",
       "      <th>satisfaction</th>\n",
       "      <th>tenure</th>\n",
       "      <th>gender</th>\n",
       "    </tr>\n",
       "  </thead>\n",
       "  <tbody>\n",
       "    <tr>\n",
       "      <th>1001</th>\n",
       "      <td>130</td>\n",
       "      <td>8</td>\n",
       "      <td>0</td>\n",
       "      <td>0.718477</td>\n",
       "      <td>2</td>\n",
       "      <td>0</td>\n",
       "      <td>1</td>\n",
       "      <td>0.357568</td>\n",
       "      <td>3.0</td>\n",
       "      <td>0</td>\n",
       "    </tr>\n",
       "    <tr>\n",
       "      <th>1002</th>\n",
       "      <td>143</td>\n",
       "      <td>2</td>\n",
       "      <td>0</td>\n",
       "      <td>0.506786</td>\n",
       "      <td>2</td>\n",
       "      <td>0</td>\n",
       "      <td>1</td>\n",
       "      <td>0.413923</td>\n",
       "      <td>3.0</td>\n",
       "      <td>1</td>\n",
       "    </tr>\n",
       "    <tr>\n",
       "      <th>1003</th>\n",
       "      <td>251</td>\n",
       "      <td>8</td>\n",
       "      <td>0</td>\n",
       "      <td>0.730812</td>\n",
       "      <td>5</td>\n",
       "      <td>0</td>\n",
       "      <td>1</td>\n",
       "      <td>0.796428</td>\n",
       "      <td>2.0</td>\n",
       "      <td>1</td>\n",
       "    </tr>\n",
       "    <tr>\n",
       "      <th>1004</th>\n",
       "      <td>142</td>\n",
       "      <td>8</td>\n",
       "      <td>0</td>\n",
       "      <td>0.527755</td>\n",
       "      <td>2</td>\n",
       "      <td>0</td>\n",
       "      <td>1</td>\n",
       "      <td>0.381956</td>\n",
       "      <td>3.0</td>\n",
       "      <td>1</td>\n",
       "    </tr>\n",
       "    <tr>\n",
       "      <th>1005</th>\n",
       "      <td>200</td>\n",
       "      <td>8</td>\n",
       "      <td>0</td>\n",
       "      <td>0.716187</td>\n",
       "      <td>3</td>\n",
       "      <td>0</td>\n",
       "      <td>1</td>\n",
       "      <td>0.556537</td>\n",
       "      <td>3.0</td>\n",
       "      <td>0</td>\n",
       "    </tr>\n",
       "  </tbody>\n",
       "</table>\n",
       "</div>"
      ],
      "text/plain": [
       "      avg_monthly_hrs  department  filed_complaint  last_evaluation  \\\n",
       "1001              130           8                0         0.718477   \n",
       "1002              143           2                0         0.506786   \n",
       "1003              251           8                0         0.730812   \n",
       "1004              142           8                0         0.527755   \n",
       "1005              200           8                0         0.716187   \n",
       "\n",
       "      n_projects  recently_promoted  salary  satisfaction  tenure  gender  \n",
       "1001           2                  0       1      0.357568     3.0       0  \n",
       "1002           2                  0       1      0.413923     3.0       1  \n",
       "1003           5                  0       1      0.796428     2.0       1  \n",
       "1004           2                  0       1      0.381956     3.0       1  \n",
       "1005           3                  0       1      0.556537     3.0       0  "
      ]
     },
     "execution_count": 26,
     "metadata": {},
     "output_type": "execute_result"
    }
   ],
   "source": [
    "le = preprocessing.LabelEncoder()\n",
    "\n",
    "colunas = [\"department\",\"salary\",\"gender\"]\n",
    "\n",
    "df_col=list(colunas)\n",
    "\n",
    "for i in range(len(df_col)):\n",
    "    X[df_col[i]] = le.fit_transform(X[df_col[i]])\n",
    "    \n",
    "X.head()"
   ]
  },
  {
   "cell_type": "markdown",
   "metadata": {},
   "source": [
    "### Normalizando ###"
   ]
  },
  {
   "cell_type": "code",
   "execution_count": 27,
   "metadata": {},
   "outputs": [],
   "source": [
    "# Escala os dados\n",
    "scaler = StandardScaler().fit(X)\n",
    "X = scaler.transform(X)"
   ]
  },
  {
   "cell_type": "markdown",
   "metadata": {},
   "source": [
    "### Balanceando as classes ###"
   ]
  },
  {
   "cell_type": "markdown",
   "metadata": {},
   "source": [
    "**NearMiss**"
   ]
  },
  {
   "cell_type": "code",
   "execution_count": 28,
   "metadata": {},
   "outputs": [
    {
     "data": {
      "text/plain": [
       "Left        2914\n",
       "Employed    2914\n",
       "Name: status, dtype: int64"
      ]
     },
     "execution_count": 28,
     "metadata": {},
     "output_type": "execute_result"
    }
   ],
   "source": [
    "# Undersampling através de NearMiss\n",
    "nr = NearMiss()\n",
    "X, y = nr.fit_resample(X, y)\n",
    "y.value_counts()"
   ]
  },
  {
   "cell_type": "markdown",
   "metadata": {},
   "source": [
    "### Train_test_split ###"
   ]
  },
  {
   "cell_type": "code",
   "execution_count": 29,
   "metadata": {},
   "outputs": [
    {
     "name": "stdout",
     "output_type": "stream",
     "text": [
      "(3788, 10) (2040, 10) (3788,) (2040,)\n"
     ]
    }
   ],
   "source": [
    "X_train, X_test, y_train, y_test = train_test_split(X,y, test_size=0.35, random_state=4) \n",
    "print(X_train.shape, X_test.shape, y_train.shape, y_test.shape)"
   ]
  },
  {
   "cell_type": "markdown",
   "metadata": {},
   "source": [
    "**Treinando com SVM**"
   ]
  },
  {
   "cell_type": "code",
   "execution_count": 30,
   "metadata": {},
   "outputs": [
    {
     "data": {
      "text/plain": [
       "SVC(probability=True)"
      ]
     },
     "execution_count": 30,
     "metadata": {},
     "output_type": "execute_result"
    }
   ],
   "source": [
    "clf = svm.SVC(probability=True).fit(X_train,y_train)\n",
    "clf"
   ]
  },
  {
   "cell_type": "code",
   "execution_count": 31,
   "metadata": {},
   "outputs": [],
   "source": [
    "resultado_svm = clf.predict(X_test)"
   ]
  },
  {
   "cell_type": "markdown",
   "metadata": {},
   "source": [
    "**Resultados SVM**"
   ]
  },
  {
   "cell_type": "code",
   "execution_count": 32,
   "metadata": {},
   "outputs": [
    {
     "name": "stdout",
     "output_type": "stream",
     "text": [
      "A acurácia do classificador SVM foi de: 90.59%\n"
     ]
    }
   ],
   "source": [
    "acc_svm = \"{:.2%}\".format(accuracy_score(y_test, resultado_svm))\n",
    "print(\"A acurácia do classificador SVM foi de:\", acc_svm)"
   ]
  },
  {
   "cell_type": "code",
   "execution_count": 33,
   "metadata": {},
   "outputs": [
    {
     "data": {
      "image/png": "[encoded data removed]",
      "text/plain": [
       "<Figure size 432x288 with 2 Axes>"
      ]
     },
     "metadata": {
      "needs_background": "light"
     },
     "output_type": "display_data"
    }
   ],
   "source": [
    "disp = metrics.plot_confusion_matrix(clf,X_test,y_test)\n",
    "disp.figure_.suptitle('Matrix de Confusão')\n",
    "plt.show()"
   ]
  },
  {
   "cell_type": "code",
   "execution_count": 34,
   "metadata": {},
   "outputs": [
    {
     "name": "stdout",
     "output_type": "stream",
     "text": [
      "              precision    recall  f1-score   support\n",
      "\n",
      "    Employed       0.92      0.88      0.90       991\n",
      "        Left       0.89      0.93      0.91      1049\n",
      "\n",
      "    accuracy                           0.91      2040\n",
      "   macro avg       0.91      0.91      0.91      2040\n",
      "weighted avg       0.91      0.91      0.91      2040\n",
      "\n"
     ]
    }
   ],
   "source": [
    "print (classification_report(y_test, resultado_svm))"
   ]
  },
  {
   "cell_type": "markdown",
   "metadata": {},
   "source": [
    "**Utilizando GridSearch para Tunning do SVM**"
   ]
  },
  {
   "cell_type": "code",
   "execution_count": 35,
   "metadata": {},
   "outputs": [
    {
     "name": "stdout",
     "output_type": "stream",
     "text": [
      "Fitting 5 folds for each of 4 candidates, totalling 20 fits\n",
      "[CV 1/5] END .............................C=1, kernel=linear; total time=   1.1s\n",
      "[CV 2/5] END .............................C=1, kernel=linear; total time=   1.2s\n",
      "[CV 3/5] END .............................C=1, kernel=linear; total time=   1.1s\n",
      "[CV 4/5] END .............................C=1, kernel=linear; total time=   1.1s\n",
      "[CV 5/5] END .............................C=1, kernel=linear; total time=   1.1s\n",
      "[CV 1/5] END ................................C=1, kernel=rbf; total time=   0.9s\n",
      "[CV 2/5] END ................................C=1, kernel=rbf; total time=   0.8s\n",
      "[CV 3/5] END ................................C=1, kernel=rbf; total time=   0.8s\n",
      "[CV 4/5] END ................................C=1, kernel=rbf; total time=   0.9s\n",
      "[CV 5/5] END ................................C=1, kernel=rbf; total time=   1.0s\n",
      "[CV 1/5] END ............................C=10, kernel=linear; total time=   4.0s\n",
      "[CV 2/5] END ............................C=10, kernel=linear; total time=   3.8s\n",
      "[CV 3/5] END ............................C=10, kernel=linear; total time=   3.5s\n",
      "[CV 4/5] END ............................C=10, kernel=linear; total time=   3.7s\n",
      "[CV 5/5] END ............................C=10, kernel=linear; total time=   4.4s\n",
      "[CV 1/5] END ...............................C=10, kernel=rbf; total time=   1.2s\n",
      "[CV 2/5] END ...............................C=10, kernel=rbf; total time=   1.2s\n",
      "[CV 3/5] END ...............................C=10, kernel=rbf; total time=   0.9s\n",
      "[CV 4/5] END ...............................C=10, kernel=rbf; total time=   0.9s\n",
      "[CV 5/5] END ...............................C=10, kernel=rbf; total time=   0.9s\n"
     ]
    }
   ],
   "source": [
    "param_dict = {'kernel':('linear', 'rbf'), 'C':[1, 10]}\n",
    "\n",
    "grid_svm = GridSearchCV(clf,\n",
    "                    param_grid = param_dict,\n",
    "                    verbose = 3)\n",
    "grid_svm.fit(X_train,y_train)\n",
    "\n",
    "resultado_svm_grid = grid_svm.predict(X_test)"
   ]
  },
  {
   "cell_type": "code",
   "execution_count": 36,
   "metadata": {},
   "outputs": [
    {
     "data": {
      "text/plain": [
       "{'C': 10, 'kernel': 'rbf'}"
      ]
     },
     "execution_count": 36,
     "metadata": {},
     "output_type": "execute_result"
    }
   ],
   "source": [
    "# O parâmetro C determina a complexidade do modelo, quanto maior mais ridigo o modelo é com relação a erros de classificação.\n",
    "grid_svm.best_params_"
   ]
  },
  {
   "cell_type": "code",
   "execution_count": 37,
   "metadata": {},
   "outputs": [
    {
     "name": "stdout",
     "output_type": "stream",
     "text": [
      "A acurácia do classificador SVM foi de: 91.96%\n"
     ]
    }
   ],
   "source": [
    "acc_svm_grid = \"{:.2%}\".format(accuracy_score(y_test, resultado_svm_grid))\n",
    "print(\"A acurácia do classificador SVM foi de:\", acc_svm_grid)"
   ]
  },
  {
   "cell_type": "code",
   "execution_count": 38,
   "metadata": {},
   "outputs": [
    {
     "data": {
      "image/png": "[encoded data removed]",
      "text/plain": [
       "<Figure size 432x288 with 2 Axes>"
      ]
     },
     "metadata": {
      "needs_background": "light"
     },
     "output_type": "display_data"
    }
   ],
   "source": [
    "disp = metrics.plot_confusion_matrix(grid_svm,X_test,y_test)\n",
    "disp.figure_.suptitle('Matrix de Confusão')\n",
    "plt.show()"
   ]
  },
  {
   "cell_type": "code",
   "execution_count": 39,
   "metadata": {},
   "outputs": [
    {
     "name": "stdout",
     "output_type": "stream",
     "text": [
      "              precision    recall  f1-score   support\n",
      "\n",
      "    Employed       0.93      0.91      0.92       991\n",
      "        Left       0.91      0.93      0.92      1049\n",
      "\n",
      "    accuracy                           0.92      2040\n",
      "   macro avg       0.92      0.92      0.92      2040\n",
      "weighted avg       0.92      0.92      0.92      2040\n",
      "\n"
     ]
    }
   ],
   "source": [
    "print (classification_report(y_test, resultado_svm_grid))"
   ]
  },
  {
   "cell_type": "markdown",
   "metadata": {},
   "source": [
    "### KNN ###"
   ]
  },
  {
   "cell_type": "code",
   "execution_count": 40,
   "metadata": {},
   "outputs": [],
   "source": [
    "knn = KNeighborsClassifier(n_neighbors=3)\n",
    "knn.fit(X_train, y_train)\n",
    "resultado_knn = knn.predict(X_test)"
   ]
  },
  {
   "cell_type": "code",
   "execution_count": 41,
   "metadata": {},
   "outputs": [
    {
     "name": "stdout",
     "output_type": "stream",
     "text": [
      "A acurácia do classificador KNN foi de: 88.92%\n"
     ]
    }
   ],
   "source": [
    "acc_knn = \"{:.2%}\".format(accuracy_score(y_test, resultado_knn))\n",
    "print(\"A acurácia do classificador KNN foi de:\", acc_knn)"
   ]
  },
  {
   "cell_type": "code",
   "execution_count": 42,
   "metadata": {},
   "outputs": [
    {
     "data": {
      "image/png": "[encoded data removed]",
      "text/plain": [
       "<Figure size 432x288 with 2 Axes>"
      ]
     },
     "metadata": {
      "needs_background": "light"
     },
     "output_type": "display_data"
    }
   ],
   "source": [
    "disp = metrics.plot_confusion_matrix(knn,X_test,y_test)\n",
    "disp.figure_.suptitle('Matrix de Confusão')\n",
    "plt.show()"
   ]
  },
  {
   "cell_type": "code",
   "execution_count": 43,
   "metadata": {},
   "outputs": [
    {
     "name": "stdout",
     "output_type": "stream",
     "text": [
      "              precision    recall  f1-score   support\n",
      "\n",
      "    Employed       0.92      0.85      0.88       991\n",
      "        Left       0.87      0.93      0.90      1049\n",
      "\n",
      "    accuracy                           0.89      2040\n",
      "   macro avg       0.89      0.89      0.89      2040\n",
      "weighted avg       0.89      0.89      0.89      2040\n",
      "\n"
     ]
    }
   ],
   "source": [
    "from sklearn.metrics import accuracy_score, confusion_matrix, classification_report\n",
    "print (classification_report(y_test, resultado_knn))"
   ]
  },
  {
   "cell_type": "code",
   "execution_count": 44,
   "metadata": {},
   "outputs": [
    {
     "name": "stdout",
     "output_type": "stream",
     "text": [
      "Fitting 5 folds for each of 16 candidates, totalling 80 fits\n",
      "[CV 1/5] END metric=euclidean, n_neighbors=3, weights=uniform; total time=   0.0s\n",
      "[CV 2/5] END metric=euclidean, n_neighbors=3, weights=uniform; total time=   0.0s\n",
      "[CV 3/5] END metric=euclidean, n_neighbors=3, weights=uniform; total time=   0.0s\n",
      "[CV 4/5] END metric=euclidean, n_neighbors=3, weights=uniform; total time=   0.0s\n",
      "[CV 5/5] END metric=euclidean, n_neighbors=3, weights=uniform; total time=   0.0s\n",
      "[CV 1/5] END metric=euclidean, n_neighbors=3, weights=distance; total time=   0.0s\n",
      "[CV 2/5] END metric=euclidean, n_neighbors=3, weights=distance; total time=   0.0s\n",
      "[CV 3/5] END metric=euclidean, n_neighbors=3, weights=distance; total time=   0.0s\n",
      "[CV 4/5] END metric=euclidean, n_neighbors=3, weights=distance; total time=   0.0s\n",
      "[CV 5/5] END metric=euclidean, n_neighbors=3, weights=distance; total time=   0.0s\n",
      "[CV 1/5] END metric=euclidean, n_neighbors=4, weights=uniform; total time=   0.0s\n",
      "[CV 2/5] END metric=euclidean, n_neighbors=4, weights=uniform; total time=   0.0s\n",
      "[CV 3/5] END metric=euclidean, n_neighbors=4, weights=uniform; total time=   0.0s\n",
      "[CV 4/5] END metric=euclidean, n_neighbors=4, weights=uniform; total time=   0.0s\n",
      "[CV 5/5] END metric=euclidean, n_neighbors=4, weights=uniform; total time=   0.0s\n",
      "[CV 1/5] END metric=euclidean, n_neighbors=4, weights=distance; total time=   0.0s\n",
      "[CV 2/5] END metric=euclidean, n_neighbors=4, weights=distance; total time=   0.0s\n",
      "[CV 3/5] END metric=euclidean, n_neighbors=4, weights=distance; total time=   0.0s\n",
      "[CV 4/5] END metric=euclidean, n_neighbors=4, weights=distance; total time=   0.0s\n",
      "[CV 5/5] END metric=euclidean, n_neighbors=4, weights=distance; total time=   0.0s\n",
      "[CV 1/5] END metric=euclidean, n_neighbors=5, weights=uniform; total time=   0.0s\n",
      "[CV 2/5] END metric=euclidean, n_neighbors=5, weights=uniform; total time=   0.0s\n",
      "[CV 3/5] END metric=euclidean, n_neighbors=5, weights=uniform; total time=   0.0s\n",
      "[CV 4/5] END metric=euclidean, n_neighbors=5, weights=uniform; total time=   0.0s\n",
      "[CV 5/5] END metric=euclidean, n_neighbors=5, weights=uniform; total time=   0.0s\n",
      "[CV 1/5] END metric=euclidean, n_neighbors=5, weights=distance; total time=   0.0s\n",
      "[CV 2/5] END metric=euclidean, n_neighbors=5, weights=distance; total time=   0.0s\n",
      "[CV 3/5] END metric=euclidean, n_neighbors=5, weights=distance; total time=   0.0s\n",
      "[CV 4/5] END metric=euclidean, n_neighbors=5, weights=distance; total time=   0.0s\n",
      "[CV 5/5] END metric=euclidean, n_neighbors=5, weights=distance; total time=   0.0s\n",
      "[CV 1/5] END metric=euclidean, n_neighbors=6, weights=uniform; total time=   0.0s\n",
      "[CV 2/5] END metric=euclidean, n_neighbors=6, weights=uniform; total time=   0.0s\n",
      "[CV 3/5] END metric=euclidean, n_neighbors=6, weights=uniform; total time=   0.0s\n",
      "[CV 4/5] END metric=euclidean, n_neighbors=6, weights=uniform; total time=   0.0s\n",
      "[CV 5/5] END metric=euclidean, n_neighbors=6, weights=uniform; total time=   0.0s\n",
      "[CV 1/5] END metric=euclidean, n_neighbors=6, weights=distance; total time=   0.0s\n",
      "[CV 2/5] END metric=euclidean, n_neighbors=6, weights=distance; total time=   0.0s\n",
      "[CV 3/5] END metric=euclidean, n_neighbors=6, weights=distance; total time=   0.0s\n",
      "[CV 4/5] END metric=euclidean, n_neighbors=6, weights=distance; total time=   0.0s\n",
      "[CV 5/5] END metric=euclidean, n_neighbors=6, weights=distance; total time=   0.0s\n",
      "[CV 1/5] END metric=manhattan, n_neighbors=3, weights=uniform; total time=   0.0s\n",
      "[CV 2/5] END metric=manhattan, n_neighbors=3, weights=uniform; total time=   0.0s\n",
      "[CV 3/5] END metric=manhattan, n_neighbors=3, weights=uniform; total time=   0.0s\n",
      "[CV 4/5] END metric=manhattan, n_neighbors=3, weights=uniform; total time=   0.0s\n",
      "[CV 5/5] END metric=manhattan, n_neighbors=3, weights=uniform; total time=   0.0s\n",
      "[CV 1/5] END metric=manhattan, n_neighbors=3, weights=distance; total time=   0.0s\n",
      "[CV 2/5] END metric=manhattan, n_neighbors=3, weights=distance; total time=   0.0s\n",
      "[CV 3/5] END metric=manhattan, n_neighbors=3, weights=distance; total time=   0.0s\n",
      "[CV 4/5] END metric=manhattan, n_neighbors=3, weights=distance; total time=   0.0s\n",
      "[CV 5/5] END metric=manhattan, n_neighbors=3, weights=distance; total time=   0.0s\n",
      "[CV 1/5] END metric=manhattan, n_neighbors=4, weights=uniform; total time=   0.0s\n",
      "[CV 2/5] END metric=manhattan, n_neighbors=4, weights=uniform; total time=   0.0s\n",
      "[CV 3/5] END metric=manhattan, n_neighbors=4, weights=uniform; total time=   0.0s\n",
      "[CV 4/5] END metric=manhattan, n_neighbors=4, weights=uniform; total time=   0.0s\n",
      "[CV 5/5] END metric=manhattan, n_neighbors=4, weights=uniform; total time=   0.0s\n",
      "[CV 1/5] END metric=manhattan, n_neighbors=4, weights=distance; total time=   0.0s\n",
      "[CV 2/5] END metric=manhattan, n_neighbors=4, weights=distance; total time=   0.0s\n",
      "[CV 3/5] END metric=manhattan, n_neighbors=4, weights=distance; total time=   0.0s\n",
      "[CV 4/5] END metric=manhattan, n_neighbors=4, weights=distance; total time=   0.0s\n",
      "[CV 5/5] END metric=manhattan, n_neighbors=4, weights=distance; total time=   0.0s\n",
      "[CV 1/5] END metric=manhattan, n_neighbors=5, weights=uniform; total time=   0.0s\n",
      "[CV 2/5] END metric=manhattan, n_neighbors=5, weights=uniform; total time=   0.0s\n",
      "[CV 3/5] END metric=manhattan, n_neighbors=5, weights=uniform; total time=   0.0s\n",
      "[CV 4/5] END metric=manhattan, n_neighbors=5, weights=uniform; total time=   0.0s\n",
      "[CV 5/5] END metric=manhattan, n_neighbors=5, weights=uniform; total time=   0.0s\n",
      "[CV 1/5] END metric=manhattan, n_neighbors=5, weights=distance; total time=   0.0s\n",
      "[CV 2/5] END metric=manhattan, n_neighbors=5, weights=distance; total time=   0.0s\n",
      "[CV 3/5] END metric=manhattan, n_neighbors=5, weights=distance; total time=   0.0s\n",
      "[CV 4/5] END metric=manhattan, n_neighbors=5, weights=distance; total time=   0.0s\n",
      "[CV 5/5] END metric=manhattan, n_neighbors=5, weights=distance; total time=   0.0s\n",
      "[CV 1/5] END metric=manhattan, n_neighbors=6, weights=uniform; total time=   0.0s\n",
      "[CV 2/5] END metric=manhattan, n_neighbors=6, weights=uniform; total time=   0.0s\n",
      "[CV 3/5] END metric=manhattan, n_neighbors=6, weights=uniform; total time=   0.0s\n",
      "[CV 4/5] END metric=manhattan, n_neighbors=6, weights=uniform; total time=   0.0s\n",
      "[CV 5/5] END metric=manhattan, n_neighbors=6, weights=uniform; total time=   0.0s\n",
      "[CV 1/5] END metric=manhattan, n_neighbors=6, weights=distance; total time=   0.0s\n",
      "[CV 2/5] END metric=manhattan, n_neighbors=6, weights=distance; total time=   0.0s\n",
      "[CV 3/5] END metric=manhattan, n_neighbors=6, weights=distance; total time=   0.0s\n",
      "[CV 4/5] END metric=manhattan, n_neighbors=6, weights=distance; total time=   0.0s\n",
      "[CV 5/5] END metric=manhattan, n_neighbors=6, weights=distance; total time=   0.0s\n"
     ]
    },
    {
     "data": {
      "text/plain": [
       "GridSearchCV(estimator=KNeighborsClassifier(n_neighbors=3),\n",
       "             param_grid={'metric': ['euclidean', 'manhattan'],\n",
       "                         'n_neighbors': [3, 4, 5, 6],\n",
       "                         'weights': ['uniform', 'distance']},\n",
       "             verbose=3)"
      ]
     },
     "execution_count": 44,
     "metadata": {},
     "output_type": "execute_result"
    }
   ],
   "source": [
    "knn_params = {\n",
    "'n_neighbors': [3,4,5,6],\n",
    "'weights': ['uniform','distance'],\n",
    "'metric':['euclidean','manhattan']\n",
    "}\n",
    "\n",
    "grid_knn = GridSearchCV(\n",
    "\tknn,\n",
    "\tknn_params,\n",
    "\tverbose = 3)\n",
    "\n",
    "grid_knn.fit(X_train, y_train)"
   ]
  },
  {
   "cell_type": "code",
   "execution_count": 45,
   "metadata": {},
   "outputs": [],
   "source": [
    "resultado_knn_grid = grid_knn.predict(X_test)"
   ]
  },
  {
   "cell_type": "code",
   "execution_count": 46,
   "metadata": {},
   "outputs": [
    {
     "name": "stdout",
     "output_type": "stream",
     "text": [
      "A acurácia do classificador KNN foi de: 90.25%\n"
     ]
    }
   ],
   "source": [
    "acc_knn_grid = \"{:.2%}\".format(accuracy_score(y_test, resultado_knn_grid))\n",
    "print(\"A acurácia do classificador KNN foi de:\", acc_knn_grid)"
   ]
  },
  {
   "cell_type": "code",
   "execution_count": 47,
   "metadata": {},
   "outputs": [
    {
     "data": {
      "image/png": "[encoded data removed]",
      "text/plain": [
       "<Figure size 432x288 with 2 Axes>"
      ]
     },
     "metadata": {
      "needs_background": "light"
     },
     "output_type": "display_data"
    }
   ],
   "source": [
    "#from sklearn import metrics\n",
    "disp = metrics.plot_confusion_matrix(grid_knn,X_test,y_test)\n",
    "disp.figure_.suptitle('Matriz de Confusão')\n",
    "plt.show()"
   ]
  },
  {
   "cell_type": "code",
   "execution_count": 48,
   "metadata": {},
   "outputs": [
    {
     "name": "stdout",
     "output_type": "stream",
     "text": [
      "              precision    recall  f1-score   support\n",
      "\n",
      "    Employed       0.91      0.88      0.90       991\n",
      "        Left       0.89      0.92      0.91      1049\n",
      "\n",
      "    accuracy                           0.90      2040\n",
      "   macro avg       0.90      0.90      0.90      2040\n",
      "weighted avg       0.90      0.90      0.90      2040\n",
      "\n"
     ]
    }
   ],
   "source": [
    "print (classification_report(y_test, resultado_knn_grid))"
   ]
  },
  {
   "cell_type": "markdown",
   "metadata": {},
   "source": [
    "### Persistindo o melhor modelo de machine learning ###"
   ]
  },
  {
   "cell_type": "code",
   "execution_count": 49,
   "metadata": {},
   "outputs": [],
   "source": [
    "pickle.dump(grid_svm, open('grid_svm.sav', 'wb'))"
   ]
  }
 ],
 "metadata": {
  "kernelspec": {
   "display_name": "Python 3",
   "language": "python",
   "name": "python3"
  },
  "language_info": {
   "codemirror_mode": {
    "name": "ipython",
    "version": 3
   },
   "file_extension": ".py",
   "mimetype": "text/x-python",
   "name": "python",
   "nbconvert_exporter": "python",
   "pygments_lexer": "ipython3",
   "version": "3.7.7"
  }
 },
 "nbformat": 4,
 "nbformat_minor": 4
}
